{
 "cells": [
  {
   "cell_type": "markdown",
   "metadata": {},
   "source": [
    "## Overture Maps Lisbon Buildins"
   ]
  },
  {
   "cell_type": "code",
   "execution_count": 3,
   "metadata": {},
   "outputs": [],
   "source": [
    "import numpy as np\n",
    "import overturemaps\n",
    "from matplotlib.colors import LogNorm\n",
    "from palettable.colorbrewer.sequential import Oranges_9\n",
    "\n",
    "from lonboard import Map, PolygonLayer\n",
    "from lonboard.colormap import apply_continuous_cmap"
   ]
  },
  {
   "cell_type": "code",
   "execution_count": 4,
   "metadata": {},
   "outputs": [],
   "source": [
    "# Define the bounding box for the area of interest in Lisbon\n",
    "bbox = -9.181056,38.696137,-9.095569,38.750243"
   ]
  },
  {
   "cell_type": "code",
   "execution_count": 5,
   "metadata": {},
   "outputs": [],
   "source": [
    "# Read the building data within the specified bounding box using Overture Maps Python Library\n",
    "table = overturemaps.record_batch_reader(\"building\", bbox).read_all()\n",
    "\n",
    "table = table.combine_chunks()"
   ]
  },
  {
   "cell_type": "code",
   "execution_count": 6,
   "metadata": {},
   "outputs": [],
   "source": [
    "# Extract building heights from the table and handle missing values\n",
    "\n",
    "heights = table[\"height\"].to_numpy()\n",
    "heights = np.nan_to_num(heights, nan=1)"
   ]
  },
  {
   "cell_type": "code",
   "execution_count": 7,
   "metadata": {},
   "outputs": [],
   "source": [
    "# Normalize the building heights using a logarithmic scale for better visualization\n",
    "\n",
    "normalizer = LogNorm(1, heights.max(), clip=True)\n",
    "normalized_heights = normalizer(heights)"
   ]
  },
  {
   "cell_type": "code",
   "execution_count": 8,
   "metadata": {},
   "outputs": [
    {
     "data": {
      "image/png": "[encoded data removed]",
      "text/html": [
       "<div style=\"vertical-align: middle;\"><strong>Oranges</strong> </div><div class=\"cmap\"><img alt=\"Oranges colormap\" title=\"Oranges\" style=\"border: 1px solid #555;\" src=\"data:image/png;base64,iVBORw0KGgoAAAANSUhEUgAAAgAAAABACAYAAABsv8+/AAAAFnRFWHRUaXRsZQBPcmFuZ2VzIGNvbG9ybWFwAJwLXwAAABx0RVh0RGVzY3JpcHRpb24AT3JhbmdlcyBjb2xvcm1hcKeyuiYAAAAwdEVYdEF1dGhvcgBNYXRwbG90bGliIHYzLjcuMiwgaHR0cHM6Ly9tYXRwbG90bGliLm9yZx9CTh4AAAAydEVYdFNvZnR3YXJlAE1hdHBsb3RsaWIgdjMuNy4yLCBodHRwczovL21hdHBsb3RsaWIub3JnMeTROQAAAddJREFUeJzt1sFO4zAUQFF3/v9PWc82ZgEUkdZNGKhmcc/ZVHbSF6dSpXuZf1/mGGPMOceb989fW49z9z9r7sF6+d5z2+1vi3kn92/m/e/n7L+/mHP6+mJ/e9LcHz/3aP/g933Wennu55xrLuZe97eP/8n9c8zF/Ll7n9vnHMzdFvPOnn/73jk//1b39z+/Px5f3/bX/3HOYv/2nPefdzz//bhfl2P3s328zvq+3fr0fdfXuJy87/F6de7j97h8We9+nuW8716/Pu+35vzw+hxv7/1nAAA5AgAAggQAAAQJAAAIEgAAECQAACBIAABAkAAAgCABAABBAgAAggQAAAQJAAAIEgAAECQAACBIAABAkAAAgCABAABBAgAAggQAAAQJAAAIEgAAECQAACBIAABAkAAAgCABAABBAgAAggQAAAQJAAAIEgAAECQAACBIAABAkAAAgCABAABBAgAAggQAAAQJAAAIEgAAECQAACBIAABAkAAAgCABAABBAgAAggQAAAQJAAAIEgAAECQAACBIAABAkAAAgCABAABBAgAAggQAAAQJAAAIEgAAECQAACBIAABAkAAAgCABAABBAgAAggQAAAQJAAAIEgAAECQAACBIAABA0Cu5rt04cCG7bAAAAABJRU5ErkJggg==\"></div><div style=\"vertical-align: middle; max-width: 514px; display: flex; justify-content: space-between;\"><div style=\"float: left;\"><div title=\"#fff5ebff\" style=\"display: inline-block; width: 1em; height: 1em; margin: 0; vertical-align: middle; border: 1px solid #555; background-color: #fff5ebff;\"></div> under</div><div style=\"margin: 0 auto; display: inline-block;\">bad <div title=\"#00000000\" style=\"display: inline-block; width: 1em; height: 1em; margin: 0; vertical-align: middle; border: 1px solid #555; background-color: #00000000;\"></div></div><div style=\"float: right;\">over <div title=\"#7f2704ff\" style=\"display: inline-block; width: 1em; height: 1em; margin: 0; vertical-align: middle; border: 1px solid #555; background-color: #7f2704ff;\"></div></div>"
      ],
      "text/plain": [
       "<matplotlib.colors.LinearSegmentedColormap at 0x162d5dcf610>"
      ]
     },
     "execution_count": 8,
     "metadata": {},
     "output_type": "execute_result"
    }
   ],
   "source": [
    "Oranges_9.mpl_colormap"
   ]
  },
  {
   "cell_type": "code",
   "execution_count": 9,
   "metadata": {},
   "outputs": [],
   "source": [
    "# Apply a colormap to the normalized heights for color-coding\n",
    "colors = apply_continuous_cmap(normalized_heights, Oranges_9)"
   ]
  },
  {
   "cell_type": "code",
   "execution_count": 10,
   "metadata": {},
   "outputs": [
    {
     "name": "stderr",
     "output_type": "stream",
     "text": [
      "c:\\Users\\Dee\\root\\Projects\\dev\\devGeo\\venv\\Lib\\site-packages\\lonboard\\_geoarrow\\ops\\reproject.py:23: UserWarning: No CRS exists on data. If no data is shown on the map, double check that your CRS is WGS84.\n",
      "  warn(\n"
     ]
    }
   ],
   "source": [
    "# Create a PolygonLayer to visualize the buildings with their heights and colors\n",
    "layer = PolygonLayer(\n",
    "    # Select only a few attribute columns from the table\n",
    "    table=table.select([\"id\", \"height\", \"geometry\", \"names\"]),\n",
    "    extruded=True,\n",
    "    get_elevation=heights,\n",
    "    get_fill_color=colors,\n",
    ")"
   ]
  },
  {
   "cell_type": "code",
   "execution_count": 11,
   "metadata": {},
   "outputs": [
    {
     "data": {
      "application/vnd.jupyter.widget-view+json": {
       "model_id": "96113bb588df480e8d0b5246694a9a7a",
       "version_major": 2,
       "version_minor": 1
      },
      "text/plain": [
       "Map(layers=[PolygonLayer(extruded=True, get_elevation=<pyarrow.lib.FloatArray object at 0x00000162D5DF9D20>\n",
       "[\n",
       "…"
      ]
     },
     "execution_count": 11,
     "metadata": {},
     "output_type": "execute_result"
    }
   ],
   "source": [
    "# Define the view state for the map (centered on Lisbon)\n",
    "\n",
    "view_state = {\n",
    "    \"longitude\": -9.181056,\n",
    "    \"latitude\": 38.696137,\n",
    "    \"zoom\": 12.726630492730596,\n",
    "    \"pitch\": 59.80465353190481,\n",
    "    \"bearing\": 13.243243243243244,\n",
    "}\n",
    "\n",
    "# Create the map with the defined layer and view state\n",
    "m = Map(layer, view_state=view_state)\n",
    "m"
   ]
  },
  {
   "cell_type": "markdown",
   "metadata": {},
   "source": [
    "This notebook is based on the brilliant work done by developmentseed:\n",
    "- https://developmentseed.org/lonboard/latest/examples/overture-maps/"
   ]
  }
 ],
 "metadata": {
  "kernelspec": {
   "display_name": "venv",
   "language": "python",
   "name": "python3"
  },
  "language_info": {
   "codemirror_mode": {
    "name": "ipython",
    "version": 3
   },
   "file_extension": ".py",
   "mimetype": "text/x-python",
   "name": "python",
   "nbconvert_exporter": "python",
   "pygments_lexer": "ipython3",
   "version": "3.11.4"
  }
 },
 "nbformat": 4,
 "nbformat_minor": 2
}
