{
 "cells": [
  {
   "cell_type": "code",
   "execution_count": 1,
   "metadata": {},
   "outputs": [],
   "source": [
    "import overturemaps"
   ]
  },
  {
   "cell_type": "code",
   "execution_count": 3,
   "metadata": {},
   "outputs": [],
   "source": [
    "import numpy as np\n",
    "import overturemaps\n",
    "from matplotlib.colors import LogNorm\n",
    "from palettable.colorbrewer.sequential import Oranges_9\n",
    "\n",
    "from lonboard import Map, PolygonLayer\n",
    "from lonboard.colormap import apply_continuous_cmap"
   ]
  },
  {
   "cell_type": "code",
   "execution_count": 4,
   "metadata": {},
   "outputs": [],
   "source": [
    "bbox = -9.181056,38.696137,-9.095569,38.750243"
   ]
  },
  {
   "cell_type": "code",
   "execution_count": 5,
   "metadata": {},
   "outputs": [],
   "source": [
    "table = overturemaps.record_batch_reader(\"building\", bbox).read_all()\n",
    "\n",
    "# Temporarily required as of Lonboard 0.8 to avoid a Lonboard bug\n",
    "table = table.combine_chunks()"
   ]
  },
  {
   "cell_type": "code",
   "execution_count": 6,
   "metadata": {},
   "outputs": [],
   "source": [
    "heights = table[\"height\"].to_numpy()\n",
    "heights = np.nan_to_num(heights, nan=1)"
   ]
  },
  {
   "cell_type": "code",
   "execution_count": 7,
   "metadata": {},
   "outputs": [],
   "source": [
    "normalizer = LogNorm(1, heights.max(), clip=True)\n",
    "normalized_heights = normalizer(heights)"
   ]
  },
  {
   "cell_type": "code",
   "execution_count": null,
   "metadata": {},
   "outputs": [],
   "source": [
    "Oranges_9.mpl_colormap"
   ]
  },
  {
   "cell_type": "code",
   "execution_count": null,
   "metadata": {},
   "outputs": [],
   "source": [
    "colors = apply_continuous_cmap(normalized_heights, Oranges_9)"
   ]
  },
  {
   "cell_type": "code",
   "execution_count": null,
   "metadata": {},
   "outputs": [],
   "source": [
    "layer = PolygonLayer(\n",
    "    # Select only a few attribute columns from the table\n",
    "    table=table.select([\"id\", \"height\", \"geometry\", \"names\"]),\n",
    "    extruded=True,\n",
    "    get_elevation=heights,\n",
    "    get_fill_color=colors,\n",
    ")"
   ]
  },
  {
   "cell_type": "code",
   "execution_count": null,
   "metadata": {},
   "outputs": [],
   "source": [
    "view_state = {\n",
    "    \"longitude\": -73.98416810282863,\n",
    "    \"latitude\": 40.72651721370669,\n",
    "    \"zoom\": 12.726630492730596,\n",
    "    \"pitch\": 59.80465353190481,\n",
    "    \"bearing\": 13.243243243243244,\n",
    "}\n",
    "m = Map(layer, view_state=view_state)\n",
    "m"
   ]
  }
 ],
 "metadata": {
  "kernelspec": {
   "display_name": "venv",
   "language": "python",
   "name": "python3"
  },
  "language_info": {
   "codemirror_mode": {
    "name": "ipython",
    "version": 3
   },
   "file_extension": ".py",
   "mimetype": "text/x-python",
   "name": "python",
   "nbconvert_exporter": "python",
   "pygments_lexer": "ipython3",
   "version": "3.11.4"
  }
 },
 "nbformat": 4,
 "nbformat_minor": 2
}
