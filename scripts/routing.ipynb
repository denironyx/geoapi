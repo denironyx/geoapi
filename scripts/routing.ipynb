{
 "cells": [
  {
   "cell_type": "code",
   "execution_count": 4,
   "metadata": {},
   "outputs": [],
   "source": [
    "import openrouteservice"
   ]
  },
  {
   "cell_type": "code",
   "execution_count": 5,
   "metadata": {},
   "outputs": [
    {
     "name": "stdout",
     "output_type": "stream",
     "text": [
      "{'bbox': [8.327725, 48.231953, 8.345244, 48.263552], 'routes': [{'summary': {'distance': 5477.4, 'duration': 803.6}, 'segments': [{'distance': 5477.4, 'duration': 803.6, 'steps': [{'distance': 247.2, 'duration': 59.3, 'type': 11, 'instruction': 'Head south on Benatweg', 'name': 'Benatweg', 'way_points': [0, 8]}, {'distance': 51.8, 'duration': 12.4, 'type': 6, 'instruction': 'Continue straight onto Benatweg', 'name': 'Benatweg', 'way_points': [8, 10]}, {'distance': 1684.0, 'duration': 134.7, 'type': 1, 'instruction': 'Turn right onto Hölzle, K 5528', 'name': 'Hölzle, K 5528', 'way_points': [10, 64]}, {'distance': 263.7, 'duration': 31.6, 'type': 1, 'instruction': 'Turn right', 'name': '-', 'way_points': [64, 73]}, {'distance': 301.9, 'duration': 36.2, 'type': 0, 'instruction': 'Turn left', 'name': '-', 'way_points': [73, 85]}, {'distance': 535.6, 'duration': 64.3, 'type': 0, 'instruction': 'Turn left', 'name': '-', 'way_points': [85, 96]}, {'distance': 248.1, 'duration': 29.8, 'type': 13, 'instruction': 'Keep right', 'name': '-', 'way_points': [96, 104]}, {'distance': 286.6, 'duration': 51.6, 'type': 1, 'instruction': 'Turn right', 'name': '-', 'way_points': [104, 112]}, {'distance': 257.5, 'duration': 46.4, 'type': 12, 'instruction': 'Keep left', 'name': '-', 'way_points': [112, 118]}, {'distance': 357.9, 'duration': 64.4, 'type': 13, 'instruction': 'Keep right', 'name': '-', 'way_points': [118, 128]}, {'distance': 12.1, 'duration': 2.9, 'type': 6, 'instruction': 'Continue straight', 'name': '-', 'way_points': [128, 129]}, {'distance': 573.2, 'duration': 112.1, 'type': 12, 'instruction': 'Keep left', 'name': '-', 'way_points': [129, 145]}, {'distance': 37.6, 'duration': 9.0, 'type': 0, 'instruction': 'Turn left', 'name': '-', 'way_points': [145, 147]}, {'distance': 469.9, 'duration': 112.8, 'type': 12, 'instruction': 'Keep left', 'name': '-', 'way_points': [147, 161]}, {'distance': 150.3, 'duration': 36.1, 'type': 2, 'instruction': 'Turn sharp left', 'name': '-', 'way_points': [161, 165]}, {'distance': 0.0, 'duration': 0.0, 'type': 10, 'instruction': 'Arrive at your destination, on the right', 'name': '-', 'way_points': [165, 165]}]}], 'bbox': [8.327725, 48.231953, 8.345244, 48.263552], 'geometry': 'mtkeHuv|q@~@VhAf@PR|@hBt@j@^n@L\\\\NjAX`BNXqAlFM^kArAoAfBs@^WFY?{Be@[?WJWRi@t@Q^]`AQRULoAPWHOL]h@mA`C_@d@oAdAkCrBc@Ra@HQByBAsAH[FWH[TaA~@aAj@[J]@aAKM?WN_@h@yCrFW\\\\wAx@WTWXQZ_@fAMPUPWJuAVw@XiAh@URYOMGM[kAkEYiB]}@s@sASWUOaA`Bs@j@MPi@pBU^Y\\\\u@v@QL[PW@WEu@[GXoArEiAlCwBfG[p@a@l@g@f@_Ah@mAn@{@V}A\\\\wATU@UEoAe@g@MaAMaACu@Uk@kE[oAU{A]w@i@}@USwAy@OOy@iAu@c@m@Ok@A{BJmBXqBkBsA}@{Ao@eB@]GKIMKO_@a@_CSo@I]u@sCQc@kAyBWS_@SaAE{@yAu@mDUsAqA}@EM@QTiA|@iAn@gAd@eAg@_@I]k@i@yBkEa@}@W}@WkCUqC?_@Hg@ZqABg@Gm@YoAEgAMq@DhFC`@{@rACH', 'way_points': [0, 165], 'legs': []}], 'metadata': {'attribution': 'openrouteservice.org | OpenStreetMap contributors', 'service': 'routing', 'timestamp': 1710746579269, 'query': {'coordinates': [[8.34234, 48.23424], [8.34423, 48.26424]], 'profile': 'driving-car', 'format': 'json'}, 'engine': {'version': '7.1.1', 'build_date': '2024-01-29T14:41:12Z', 'graph_date': '2024-03-17T13:51:27Z'}}}\n"
     ]
    }
   ],
   "source": [
    "coords = ((8.34234,48.23424),(8.34423,48.26424))\n",
    "client = openrouteservice.Client(key=)\n",
    "routes = client.directions(coords)\n",
    "print(routes)"
   ]
  }
 ],
 "metadata": {
  "kernelspec": {
   "display_name": "venv",
   "language": "python",
   "name": "python3"
  },
  "language_info": {
   "codemirror_mode": {
    "name": "ipython",
    "version": 3
   },
   "file_extension": ".py",
   "mimetype": "text/x-python",
   "name": "python",
   "nbconvert_exporter": "python",
   "pygments_lexer": "ipython3",
   "version": "3.11.4"
  }
 },
 "nbformat": 4,
 "nbformat_minor": 2
}
