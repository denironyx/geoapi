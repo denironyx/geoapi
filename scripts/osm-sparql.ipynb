{
 "cells": [
  {
   "cell_type": "code",
   "execution_count": 1,
   "metadata": {},
   "outputs": [],
   "source": [
    "from SPARQLWrapper import SPARQLWrapper, JSON\n",
    "sparql = SPARQLWrapper(\"https://sophox.org/sparql\")"
   ]
  },
  {
   "cell_type": "code",
   "execution_count": 2,
   "metadata": {},
   "outputs": [
    {
     "name": "stdout",
     "output_type": "stream",
     "text": [
      "{'name': {'type': 'literal', 'value': 'Fraunces Tavern Museum'}, 'street': {'type': 'literal', 'value': 'Pearl Street'}, 'housenumber': {'type': 'literal', 'value': '54'}}\n",
      "{'name': {'type': 'literal', 'value': 'National Museum of the American Indian'}, 'street': {'type': 'literal', 'value': 'Bowling Green'}, 'housenumber': {'type': 'literal', 'value': '1'}}\n",
      "{'name': {'type': 'literal', 'value': 'Lower East Side Tenement Museum'}, 'street': {'type': 'literal', 'value': 'Orchard Street'}, 'housenumber': {'type': 'literal', 'value': '103'}}\n",
      "{'name': {'type': 'literal', 'value': 'International Center of Photography'}, 'street': {'type': 'literal', 'value': '6th Avenue'}, 'housenumber': {'type': 'literal', 'value': '1133'}}\n",
      "{'name': {'type': 'literal', 'value': 'Dyckman Farmhouse Museum'}, 'street': {'type': 'literal', 'value': 'Broadway'}, 'housenumber': {'type': 'literal', 'value': '4881'}}\n",
      "{'name': {'type': 'literal', 'value': 'Rubin Museum of Art'}, 'street': {'type': 'literal', 'value': 'West 17th Street'}, 'housenumber': {'type': 'literal', 'value': '150'}}\n",
      "{'name': {'type': 'literal', 'value': 'Intrepid Museum'}, 'street': {'type': 'literal', 'value': 'West 46th Street'}, 'housenumber': {'type': 'literal', 'value': '86'}}\n",
      "{'name': {'type': 'literal', 'value': 'Mount Vernon Hotel Museum'}, 'street': {'type': 'literal', 'value': 'East 61st Street'}, 'housenumber': {'type': 'literal', 'value': '421'}}\n",
      "{'name': {'type': 'literal', 'value': 'Frick Collection'}, 'street': {'type': 'literal', 'value': 'East 70th Street'}, 'housenumber': {'type': 'literal', 'value': '1'}}\n",
      "{'name': {'type': 'literal', 'value': 'Cooper–Hewitt, Smithsonian Design Museum'}, 'street': {'type': 'literal', 'value': 'East 91st Street'}, 'housenumber': {'type': 'literal', 'value': '2'}}\n",
      "{'name': {'type': 'literal', 'value': 'Institute for the Study of the Ancient World'}, 'street': {'type': 'literal', 'value': 'East 85th Street'}, 'housenumber': {'type': 'literal', 'value': '15'}}\n",
      "{'name': {'type': 'literal', 'value': 'Neue Galerie New York'}, 'street': {'type': 'literal', 'value': '5th Avenue'}, 'housenumber': {'type': 'literal', 'value': '1048'}}\n",
      "{'name': {'type': 'literal', 'value': 'The Jewish Museum'}, 'street': {'type': 'literal', 'value': '5th Avenue'}, 'housenumber': {'type': 'literal', 'value': '1109'}}\n",
      "{'name': {'type': 'literal', 'value': \"Children's Cultural Center of Native America\"}, 'street': {'type': 'literal', 'value': 'West 155th Street'}, 'housenumber': {'type': 'literal', 'value': '550'}}\n",
      "{'name': {'type': 'literal', 'value': 'Skyscraper Museum'}, 'street': {'type': 'literal', 'value': 'Battery Place'}, 'housenumber': {'type': 'literal', 'value': '39'}}\n",
      "{'name': {'type': 'literal', 'value': 'Hall des Lumières'}, 'street': {'type': 'literal', 'value': 'Chambers Street'}, 'housenumber': {'type': 'literal', 'value': '49'}}\n",
      "{'name': {'type': 'literal', 'value': 'American Folk Art Museum'}, 'street': {'type': 'literal', 'value': 'Lincoln Square'}, 'housenumber': {'type': 'literal', 'value': '2'}}\n",
      "{'name': {'type': 'literal', 'value': \"Children's Museum of the Arts\"}, 'street': {'type': 'literal', 'value': 'Charlton Street'}, 'housenumber': {'type': 'literal', 'value': '103'}}\n",
      "{'name': {'type': 'literal', 'value': \"Children's Museum of Manhattan\"}, 'street': {'type': 'literal', 'value': 'West 83rd Street'}, 'housenumber': {'type': 'literal', 'value': '212'}}\n",
      "{'name': {'type': 'literal', 'value': 'Museum of the City of New York'}, 'street': {'type': 'literal', 'value': '5th Avenue'}, 'housenumber': {'type': 'literal', 'value': '1220'}}\n",
      "{'name': {'type': 'literal', 'value': 'Hamilton Grange National Memorial'}, 'street': {'type': 'literal', 'value': 'West 141st Street'}, 'housenumber': {'type': 'literal', 'value': '414'}}\n",
      "{'name': {'type': 'literal', 'value': 'General Grant National Memorial'}, 'street': {'type': 'literal', 'value': 'Riverside Drive'}, 'housenumber': {'type': 'literal', 'value': '501'}}\n",
      "{'name': {'type': 'literal', 'value': '9/11 Memorial & Museum'}, 'street': {'type': 'literal', 'value': 'Greenwich Street'}, 'housenumber': {'type': 'literal', 'value': '180'}}\n",
      "{'name': {'type': 'literal', 'value': 'National Museum of Mathematics'}, 'street': {'type': 'literal', 'value': 'East 26th Street'}, 'housenumber': {'type': 'literal', 'value': '11'}}\n",
      "{'name': {'type': 'literal', 'value': 'Museum of Arts and Design'}, 'street': {'type': 'literal', 'value': 'Columbus Circle'}, 'housenumber': {'type': 'literal', 'value': '2'}}\n",
      "{'name': {'type': 'literal', 'value': 'Paley Center for Media'}, 'street': {'type': 'literal', 'value': 'West 52nd Street'}, 'housenumber': {'type': 'literal', 'value': '25'}}\n",
      "{'name': {'type': 'literal', 'value': 'Guggenheim Museum'}, 'street': {'type': 'literal', 'value': '5th Avenue'}, 'housenumber': {'type': 'literal', 'value': '1071'}}\n",
      "{'name': {'type': 'literal', 'value': \"Merchant's House Museum\"}, 'street': {'type': 'literal', 'value': 'East 4th Street'}, 'housenumber': {'type': 'literal', 'value': '29'}}\n",
      "{'name': {'type': 'literal', 'value': 'Sperone Westwater'}, 'street': {'type': 'literal', 'value': 'Bowery'}, 'housenumber': {'type': 'literal', 'value': '257'}}\n",
      "{'name': {'type': 'literal', 'value': 'New York City Fire Museum'}, 'street': {'type': 'literal', 'value': 'Spring Street'}, 'housenumber': {'type': 'literal', 'value': '278'}}\n",
      "{'name': {'type': 'literal', 'value': 'MoMA'}, 'street': {'type': 'literal', 'value': 'West 53rd Street'}, 'housenumber': {'type': 'literal', 'value': '11'}}\n",
      "{'name': {'type': 'literal', 'value': 'Whitney Museum of American Art'}, 'street': {'type': 'literal', 'value': 'Gansevoort Street'}, 'housenumber': {'type': 'literal', 'value': '99'}}\n",
      "{'name': {'type': 'literal', 'value': 'American Museum of Natural History'}, 'street': {'type': 'literal', 'value': 'Central Park West'}, 'housenumber': {'type': 'literal', 'value': '180'}}\n",
      "{'name': {'type': 'literal', 'value': 'Poster House'}, 'street': {'type': 'literal', 'value': 'West 23rd Street'}, 'housenumber': {'type': 'literal', 'value': '119'}}\n",
      "{'name': {'type': 'literal', 'value': 'New-York Historical Society'}, 'street': {'type': 'literal', 'value': 'Central Park West'}, 'housenumber': {'type': 'literal', 'value': '170'}}\n",
      "{'name': {'type': 'literal', 'value': 'The Metropolitan Museum of Art'}, 'street': {'type': 'literal', 'value': '5th Avenue'}, 'housenumber': {'type': 'literal', 'value': '1000'}}\n",
      "{'name': {'type': 'literal', 'value': 'Italian American Museum'}, 'street': {'type': 'literal', 'value': 'Mulberry Street'}, 'housenumber': {'type': 'literal', 'value': '155'}}\n",
      "{'name': {'type': 'literal', 'value': 'The Morgan Library & Museum'}, 'street': {'type': 'literal', 'value': 'Madison Avenue'}, 'housenumber': {'type': 'literal', 'value': '225'}}\n",
      "{'name': {'type': 'literal', 'value': 'Hayden Planetarium'}, 'street': {'type': 'literal', 'value': 'Central Park West'}, 'housenumber': {'type': 'literal', 'value': '200'}}\n",
      "{'name': {'type': 'literal', 'value': 'The Renee and Chaim Gross Foundation'}, 'street': {'type': 'literal', 'value': 'Laguardia Place'}, 'housenumber': {'type': 'literal', 'value': '526'}}\n",
      "{'name': {'type': 'literal', 'value': 'Society of Illustrators'}, 'street': {'type': 'literal', 'value': 'East 63rd Street'}, 'housenumber': {'type': 'literal', 'value': '128'}}\n",
      "{'name': {'type': 'literal', 'value': 'Natonial Jazz Museum in Harlem'}, 'street': {'type': 'literal', 'value': 'West 129th Street'}, 'housenumber': {'type': 'literal', 'value': '58'}}\n",
      "{'name': {'type': 'literal', 'value': 'Malcolm X & Dr. Betty Shabazz Memorial and Educational Center'}, 'street': {'type': 'literal', 'value': 'Broadway'}, 'housenumber': {'type': 'literal', 'value': '3940'}}\n",
      "{'name': {'type': 'literal', 'value': 'The Africa Center'}, 'street': {'type': 'literal', 'value': '5th Avenue'}, 'housenumber': {'type': 'literal', 'value': '1280'}}\n",
      "{'name': {'type': 'literal', 'value': 'Leslie-Lohman Museum of Art'}, 'street': {'type': 'literal', 'value': 'Wooster Street'}, 'housenumber': {'type': 'literal', 'value': '26'}}\n",
      "{'name': {'type': 'literal', 'value': 'International Center of Photography'}, 'street': {'type': 'literal', 'value': 'Essex Street'}, 'housenumber': {'type': 'literal', 'value': '79'}}\n",
      "{'name': {'type': 'literal', 'value': 'NYC Barber Shop Museum'}, 'street': {'type': 'literal', 'value': 'Columbus Avenue'}, 'housenumber': {'type': 'literal', 'value': '290'}}\n",
      "{'name': {'type': 'literal', 'value': 'Jackie Robinson Museum'}, 'street': {'type': 'literal', 'value': 'Varick Street'}, 'housenumber': {'type': 'literal', 'value': '75'}}\n",
      "{'name': {'type': 'literal', 'value': 'Frick Madison'}, 'street': {'type': 'literal', 'value': 'Madison Avenue'}, 'housenumber': {'type': 'literal', 'value': '945'}}\n",
      "{'name': {'type': 'literal', 'value': 'National Academy of Design'}, 'street': {'type': 'literal', 'value': 'West 26th Street'}, 'housenumber': {'type': 'literal', 'value': '519'}}\n",
      "{'name': {'type': 'literal', 'value': 'June 4th Memorial Exhibit'}, 'street': {'type': 'literal', 'value': '6th Avenue'}, 'housenumber': {'type': 'literal', 'value': '894'}}\n"
     ]
    }
   ],
   "source": [
    "sparql.setQuery(\"\"\"SELECT ?name ?housenumber ?street \n",
    "WHERE {\n",
    "   ?museum osmt:addr:city \"New York\";\n",
    "      osmt:tourism \"museum\";\n",
    "      osmm:loc ?loc ;\n",
    "      osmt:name ?name ;\n",
    "      osmt:addr:housenumber ?housenumber ;\n",
    "      osmt:addr:street ?street .\n",
    "      # The following tells it to only get museums south of the Javits Center\n",
    "      # FILTER(geof:latitude(?loc) < 40.758289)\n",
    "}\n",
    "\"\"\")\n",
    "sparql.setReturnFormat(JSON)\n",
    "results = sparql.query().convert()\n",
    "\n",
    "for result in results[\"results\"][\"bindings\"]:\n",
    "    print(result)"
   ]
  },
  {
   "cell_type": "code",
   "execution_count": null,
   "metadata": {},
   "outputs": [],
   "source": [
    "data = []\n",
    "for result in results[\"results\"]"
   ]
  }
 ],
 "metadata": {
  "kernelspec": {
   "display_name": "venv",
   "language": "python",
   "name": "python3"
  },
  "language_info": {
   "codemirror_mode": {
    "name": "ipython",
    "version": 3
   },
   "file_extension": ".py",
   "mimetype": "text/x-python",
   "name": "python",
   "nbconvert_exporter": "python",
   "pygments_lexer": "ipython3",
   "version": "3.11.4"
  }
 },
 "nbformat": 4,
 "nbformat_minor": 2
}
