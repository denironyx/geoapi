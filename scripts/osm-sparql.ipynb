{
 "cells": [
  {
   "cell_type": "code",
   "execution_count": 5,
   "metadata": {},
   "outputs": [],
   "source": [
    "import pandas as pd\n",
    "from SPARQLWrapper import SPARQLWrapper, JSON\n",
    "sparql = SPARQLWrapper(\"https://sophox.org/sparql\")"
   ]
  },
  {
   "cell_type": "code",
   "execution_count": 12,
   "metadata": {},
   "outputs": [
    {
     "name": "stdout",
     "output_type": "stream",
     "text": [
      "{'name': {'type': 'literal', 'value': 'John Bishop House'}, 'street': {'type': 'literal', 'value': 'South Burnham Highway'}, 'housenumber': {'type': 'literal', 'value': '11'}}\n",
      "{'name': {'type': 'literal', 'value': 'Museu do Centro Científico e Cultural de Macau'}, 'street': {'type': 'literal', 'value': 'Rua da Junqueira'}, 'housenumber': {'type': 'literal', 'value': '30'}}\n"
     ]
    }
   ],
   "source": [
    "sparql.setQuery(\"\"\"SELECT ?name ?housenumber ?street \n",
    "WHERE {\n",
    "   ?museum osmt:addr:city \"Lisbon\";\n",
    "      osmt:tourism \"museum\";\n",
    "      osmm:loc ?loc ;\n",
    "      osmt:name ?name ;\n",
    "      osmt:addr:housenumber ?housenumber ;\n",
    "      osmt:addr:street ?street .\n",
    "      # The following tells it to only get museums south of the Javits Center\n",
    "      # FILTER(geof:latitude(?loc) < 40.758289)\n",
    "}\n",
    "\"\"\")\n",
    "sparql.setReturnFormat(JSON)\n",
    "results = sparql.query().convert()\n",
    "\n",
    "for result in results[\"results\"][\"bindings\"]:\n",
    "    print(result)"
   ]
  },
  {
   "cell_type": "code",
   "execution_count": 18,
   "metadata": {},
   "outputs": [
    {
     "data": {
      "text/plain": [
       "{'head': {'vars': ['name', 'housenumber', 'street']},\n",
       " 'results': {'bindings': [{'name': {'type': 'literal',\n",
       "     'value': 'John Bishop House'},\n",
       "    'street': {'type': 'literal', 'value': 'South Burnham Highway'},\n",
       "    'housenumber': {'type': 'literal', 'value': '11'}},\n",
       "   {'name': {'type': 'literal',\n",
       "     'value': 'Museu do Centro Científico e Cultural de Macau'},\n",
       "    'street': {'type': 'literal', 'value': 'Rua da Junqueira'},\n",
       "    'housenumber': {'type': 'literal', 'value': '30'}}]}}"
      ]
     },
     "execution_count": 18,
     "metadata": {},
     "output_type": "execute_result"
    }
   ],
   "source": [
    "results"
   ]
  },
  {
   "cell_type": "code",
   "execution_count": 14,
   "metadata": {},
   "outputs": [],
   "source": [
    "data = []\n",
    "for result in results[\"results\"][\"bindings\"]:\n",
    "    data.append({\n",
    "        'name': result['name']['value'],\n",
    "        'housenumber': result['housenumber']['value'],\n",
    "        'street': result['street']['value']\n",
    "    })"
   ]
  },
  {
   "cell_type": "code",
   "execution_count": 15,
   "metadata": {},
   "outputs": [
    {
     "data": {
      "text/plain": [
       "[{'name': 'John Bishop House',\n",
       "  'housenumber': '11',\n",
       "  'street': 'South Burnham Highway'},\n",
       " {'name': 'Museu do Centro Científico e Cultural de Macau',\n",
       "  'housenumber': '30',\n",
       "  'street': 'Rua da Junqueira'}]"
      ]
     },
     "execution_count": 15,
     "metadata": {},
     "output_type": "execute_result"
    }
   ],
   "source": [
    "data"
   ]
  },
  {
   "cell_type": "code",
   "execution_count": 16,
   "metadata": {},
   "outputs": [
    {
     "name": "stdout",
     "output_type": "stream",
     "text": [
      "                                             name housenumber  \\\n",
      "0                               John Bishop House          11   \n",
      "1  Museu do Centro Científico e Cultural de Macau          30   \n",
      "\n",
      "                  street  \n",
      "0  South Burnham Highway  \n",
      "1       Rua da Junqueira  \n"
     ]
    }
   ],
   "source": [
    "df = pd.DataFrame(data)\n",
    "print(df)"
   ]
  },
  {
   "cell_type": "code",
   "execution_count": 17,
   "metadata": {},
   "outputs": [
    {
     "data": {
      "text/html": [
       "<div>\n",
       "<style scoped>\n",
       "    .dataframe tbody tr th:only-of-type {\n",
       "        vertical-align: middle;\n",
       "    }\n",
       "\n",
       "    .dataframe tbody tr th {\n",
       "        vertical-align: top;\n",
       "    }\n",
       "\n",
       "    .dataframe thead th {\n",
       "        text-align: right;\n",
       "    }\n",
       "</style>\n",
       "<table border=\"1\" class=\"dataframe\">\n",
       "  <thead>\n",
       "    <tr style=\"text-align: right;\">\n",
       "      <th></th>\n",
       "      <th>name</th>\n",
       "      <th>housenumber</th>\n",
       "      <th>street</th>\n",
       "    </tr>\n",
       "  </thead>\n",
       "  <tbody>\n",
       "    <tr>\n",
       "      <th>0</th>\n",
       "      <td>John Bishop House</td>\n",
       "      <td>11</td>\n",
       "      <td>South Burnham Highway</td>\n",
       "    </tr>\n",
       "    <tr>\n",
       "      <th>1</th>\n",
       "      <td>Museu do Centro Científico e Cultural de Macau</td>\n",
       "      <td>30</td>\n",
       "      <td>Rua da Junqueira</td>\n",
       "    </tr>\n",
       "  </tbody>\n",
       "</table>\n",
       "</div>"
      ],
      "text/plain": [
       "                                             name housenumber  \\\n",
       "0                               John Bishop House          11   \n",
       "1  Museu do Centro Científico e Cultural de Macau          30   \n",
       "\n",
       "                  street  \n",
       "0  South Burnham Highway  \n",
       "1       Rua da Junqueira  "
      ]
     },
     "execution_count": 17,
     "metadata": {},
     "output_type": "execute_result"
    }
   ],
   "source": [
    "df"
   ]
  }
 ],
 "metadata": {
  "kernelspec": {
   "display_name": "venv",
   "language": "python",
   "name": "python3"
  },
  "language_info": {
   "codemirror_mode": {
    "name": "ipython",
    "version": 3
   },
   "file_extension": ".py",
   "mimetype": "text/x-python",
   "name": "python",
   "nbconvert_exporter": "python",
   "pygments_lexer": "ipython3",
   "version": "3.11.4"
  }
 },
 "nbformat": 4,
 "nbformat_minor": 2
}
