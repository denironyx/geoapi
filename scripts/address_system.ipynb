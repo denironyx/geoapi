{
 "cells": [
  {
   "cell_type": "code",
   "execution_count": 1,
   "metadata": {},
   "outputs": [],
   "source": [
    "from geopy.geocoders import Nominatim\n",
    "import folium"
   ]
  },
  {
   "cell_type": "code",
   "execution_count": null,
   "metadata": {},
   "outputs": [],
   "source": [
    "geolocator = Nominatim"
   ]
  },
  {
   "cell_type": "code",
   "execution_count": 27,
   "metadata": {},
   "outputs": [],
   "source": [
    "def verify_address(address):\n",
    "    geolocator = Nominatim(user_agent=\"address-verification-app\")\n",
    "    location = geolocator.geocode(address)\n",
    "    if location:\n",
    "        print(\"Address is valid.\")\n",
    "        print(\"Verified Address: \", location.address)\n",
    "        print(\"Latitude:\", location.latitude, \"| Longitude:\", location.longitude)\n",
    "        return location.latitude, location.longitude\n",
    "    else:\n",
    "        print(\"Address is invalid.\")\n",
    "        return None, None"
   ]
  },
  {
   "cell_type": "code",
   "execution_count": 28,
   "metadata": {},
   "outputs": [
    {
     "name": "stdout",
     "output_type": "stream",
     "text": [
      "Address is valid.\n",
      "Verified Address:  Flatiron Building, 175, 5th Avenue, Flatiron District, Manhattan Community Board 5, Manhattan, New York County, City of New York, New York, 10010, United States\n",
      "Latitude: 40.741059199999995 | Longitude: -73.98964162240998\n"
     ]
    },
    {
     "data": {
      "text/plain": [
       "(40.741059199999995, -73.98964162240998)"
      ]
     },
     "execution_count": 28,
     "metadata": {},
     "output_type": "execute_result"
    }
   ],
   "source": [
    "verify_address(\"175 5th Avenue NYC\")"
   ]
  },
  {
   "cell_type": "code",
   "execution_count": 6,
   "metadata": {},
   "outputs": [
    {
     "name": "stdout",
     "output_type": "stream",
     "text": [
      "Address is valid.\n",
      "Verified Address:  Rua Sousa Lopes, Campo Pequeno, Avenidas Novas, Lisboa, 1600-131, Portugal\n",
      "Latitude: 38.7441996 | Longitude: -9.1524542\n"
     ]
    }
   ],
   "source": [
    "verify_address(\"247 Rua Sousa Lopes 1600-131\")"
   ]
  },
  {
   "cell_type": "code",
   "execution_count": 9,
   "metadata": {},
   "outputs": [
    {
     "name": "stdout",
     "output_type": "stream",
     "text": [
      "Address is invalid.\n"
     ]
    },
    {
     "data": {
      "text/plain": [
       "(None, None)"
      ]
     },
     "execution_count": 9,
     "metadata": {},
     "output_type": "execute_result"
    }
   ],
   "source": [
    "verify_address(\"Ahmed Gambo Salem, Jahi District Abuja\")"
   ]
  },
  {
   "cell_type": "code",
   "execution_count": 11,
   "metadata": {},
   "outputs": [
    {
     "name": "stdout",
     "output_type": "stream",
     "text": [
      "Address is invalid.\n"
     ]
    },
    {
     "data": {
      "text/plain": [
       "(None, None)"
      ]
     },
     "execution_count": 11,
     "metadata": {},
     "output_type": "execute_result"
    }
   ],
   "source": [
    "verify_address(\"Malum Damboama Jahi 900140, FCT\")"
   ]
  },
  {
   "cell_type": "code",
   "execution_count": 12,
   "metadata": {},
   "outputs": [
    {
     "name": "stdout",
     "output_type": "stream",
     "text": [
      "Address is invalid.\n"
     ]
    },
    {
     "data": {
      "text/plain": [
       "(None, None)"
      ]
     },
     "execution_count": 12,
     "metadata": {},
     "output_type": "execute_result"
    }
   ],
   "source": [
    "verify_address(\"5 TOS Benson Crescent 900108\")"
   ]
  },
  {
   "cell_type": "code",
   "execution_count": 13,
   "metadata": {},
   "outputs": [],
   "source": [
    "def search_address(latitude, longitude):\n",
    "    geolocator = Nominatim(user_agent=\"address-verification-app\")\n",
    "    location = geolocator.reverse((latitude, longitude))\n",
    "    if location:\n",
    "        print(\"Address found for given coordinates.\")\n",
    "        print(\"Address:\", location.address)\n",
    "        return location.address\n",
    "    else:\n",
    "        print(\"No address found for given coordinates.\")\n",
    "        return None"
   ]
  },
  {
   "cell_type": "code",
   "execution_count": 14,
   "metadata": {},
   "outputs": [
    {
     "name": "stdout",
     "output_type": "stream",
     "text": [
      "Address found for given coordinates.\n",
      "Address: Rua Sousa Lopes, Campo Pequeno, Avenidas Novas, Lisboa, 1600-131, Portugal\n"
     ]
    },
    {
     "data": {
      "text/plain": [
       "'Rua Sousa Lopes, Campo Pequeno, Avenidas Novas, Lisboa, 1600-131, Portugal'"
      ]
     },
     "execution_count": 14,
     "metadata": {},
     "output_type": "execute_result"
    }
   ],
   "source": [
    "search_address(38.7441996, -9.1524542)"
   ]
  },
  {
   "cell_type": "code",
   "execution_count": 15,
   "metadata": {},
   "outputs": [
    {
     "name": "stdout",
     "output_type": "stream",
     "text": [
      "Address found for given coordinates.\n",
      "Address: Utako, Abuja, Municipal Area Council, Federal Capital Territory, 240102, Nigeria\n"
     ]
    },
    {
     "data": {
      "text/plain": [
       "'Utako, Abuja, Municipal Area Council, Federal Capital Territory, 240102, Nigeria'"
      ]
     },
     "execution_count": 15,
     "metadata": {},
     "output_type": "execute_result"
    }
   ],
   "source": [
    "search_address(9.07230, 7.44754)"
   ]
  },
  {
   "cell_type": "code",
   "execution_count": 16,
   "metadata": {},
   "outputs": [
    {
     "name": "stdout",
     "output_type": "stream",
     "text": [
      "Address found for given coordinates.\n",
      "Address: T.O.S. Benson Crescent, Utako, Abuja, Municipal Area Council, Federal Capital Territory, 240102, Nigeria\n"
     ]
    },
    {
     "data": {
      "text/plain": [
       "'T.O.S. Benson Crescent, Utako, Abuja, Municipal Area Council, Federal Capital Territory, 240102, Nigeria'"
      ]
     },
     "execution_count": 16,
     "metadata": {},
     "output_type": "execute_result"
    }
   ],
   "source": [
    "search_address(9.07165, 7.44853)"
   ]
  },
  {
   "cell_type": "code",
   "execution_count": 17,
   "metadata": {},
   "outputs": [
    {
     "name": "stdout",
     "output_type": "stream",
     "text": [
      "Address found for given coordinates.\n",
      "Address: T.O.S. Benson Crescent, Utako, Abuja, Municipal Area Council, Federal Capital Territory, 240102, Nigeria\n"
     ]
    },
    {
     "data": {
      "text/plain": [
       "'T.O.S. Benson Crescent, Utako, Abuja, Municipal Area Council, Federal Capital Territory, 240102, Nigeria'"
      ]
     },
     "execution_count": 17,
     "metadata": {},
     "output_type": "execute_result"
    }
   ],
   "source": [
    "search_address(9.07132, 7.44900)"
   ]
  },
  {
   "cell_type": "code",
   "execution_count": 18,
   "metadata": {},
   "outputs": [
    {
     "name": "stdout",
     "output_type": "stream",
     "text": [
      "Address found for given coordinates.\n",
      "Address: Kabusu, Karu, Nasarawa, Nigeria\n"
     ]
    },
    {
     "data": {
      "text/plain": [
       "'Kabusu, Karu, Nasarawa, Nigeria'"
      ]
     },
     "execution_count": 18,
     "metadata": {},
     "output_type": "execute_result"
    }
   ],
   "source": [
    "search_address(9.2132, 7.64900)"
   ]
  },
  {
   "cell_type": "code",
   "execution_count": 21,
   "metadata": {},
   "outputs": [
    {
     "name": "stdout",
     "output_type": "stream",
     "text": [
      "No address found for given coordinates.\n"
     ]
    }
   ],
   "source": [
    "search_address(38.9441996, -10.24542)"
   ]
  },
  {
   "cell_type": "code",
   "execution_count": 24,
   "metadata": {},
   "outputs": [
    {
     "name": "stdout",
     "output_type": "stream",
     "text": [
      "Address found for given coordinates.\n",
      "Address: Portugal\n"
     ]
    },
    {
     "data": {
      "text/plain": [
       "'Portugal'"
      ]
     },
     "execution_count": 24,
     "metadata": {},
     "output_type": "execute_result"
    }
   ],
   "source": [
    "search_address(38.9441996, -9.74542)"
   ]
  },
  {
   "cell_type": "code",
   "execution_count": 33,
   "metadata": {},
   "outputs": [],
   "source": [
    "def main():\n",
    "    address = input(\"Enter an address to verify: \")\n",
    "    latitude, longitude = verify_address(address)\n",
    "    if latitude is not None and longitude is not None:\n",
    "        search_address(latitude, longitude)\n",
    "        \n",
    "        # visualize the location on a map\n",
    "        m = folium.Map(location=[latitude, longitude], zoom_start=10)\n",
    "        folium.Marker(location=[latitude, longitude], popup=address).add_to(m)\n",
    "        m.save(\"map.html\")\n",
    "        print(\"Map saved as map.html\")\n",
    "        display(m) # display the map\n",
    "    else:\n",
    "        print(\"Address is invalid.\")\n",
    "        return None"
   ]
  },
  {
   "cell_type": "code",
   "execution_count": 34,
   "metadata": {},
   "outputs": [
    {
     "name": "stdout",
     "output_type": "stream",
     "text": [
      "Address is valid.\n",
      "Verified Address:  Flatiron Building, 175, 5th Avenue, Flatiron District, Manhattan Community Board 5, Manhattan, New York County, City of New York, New York, 10010, United States\n",
      "Latitude: 40.741059199999995 | Longitude: -73.98964162240998\n",
      "Address found for given coordinates.\n",
      "Address: Flatiron Building, 175, 5th Avenue, Flatiron District, Manhattan Community Board 5, Manhattan, New York County, City of New York, New York, 10010, United States\n",
      "Map saved as map.html\n"
     ]
    },
    {
     "data": {
      "text/html": [
       "<div style=\"width:100%;\"><div style=\"position:relative;width:100%;height:0;padding-bottom:60%;\"><span style=\"color:#565656\">Make this Notebook Trusted to load map: File -> Trust Notebook</span><iframe srcdoc=\"&lt;!DOCTYPE html&gt;\n",
       "&lt;html&gt;\n",
       "&lt;head&gt;\n",
       "    \n",
       "    &lt;meta http-equiv=&quot;content-type&quot; content=&quot;text/html; charset=UTF-8&quot; /&gt;\n",
       "    \n",
       "        &lt;script&gt;\n",
       "            L_NO_TOUCH = false;\n",
       "            L_DISABLE_3D = false;\n",
       "        &lt;/script&gt;\n",
       "    \n",
       "    &lt;style&gt;html, body {width: 100%;height: 100%;margin: 0;padding: 0;}&lt;/style&gt;\n",
       "    &lt;style&gt;#map {position:absolute;top:0;bottom:0;right:0;left:0;}&lt;/style&gt;\n",
       "    &lt;script src=&quot;https://cdn.jsdelivr.net/npm/leaflet@1.9.3/dist/leaflet.js&quot;&gt;&lt;/script&gt;\n",
       "    &lt;script src=&quot;https://code.jquery.com/jquery-3.7.1.min.js&quot;&gt;&lt;/script&gt;\n",
       "    &lt;script src=&quot;https://cdn.jsdelivr.net/npm/bootstrap@5.2.2/dist/js/bootstrap.bundle.min.js&quot;&gt;&lt;/script&gt;\n",
       "    &lt;script src=&quot;https://cdnjs.cloudflare.com/ajax/libs/Leaflet.awesome-markers/2.0.2/leaflet.awesome-markers.js&quot;&gt;&lt;/script&gt;\n",
       "    &lt;link rel=&quot;stylesheet&quot; href=&quot;https://cdn.jsdelivr.net/npm/leaflet@1.9.3/dist/leaflet.css&quot;/&gt;\n",
       "    &lt;link rel=&quot;stylesheet&quot; href=&quot;https://cdn.jsdelivr.net/npm/bootstrap@5.2.2/dist/css/bootstrap.min.css&quot;/&gt;\n",
       "    &lt;link rel=&quot;stylesheet&quot; href=&quot;https://netdna.bootstrapcdn.com/bootstrap/3.0.0/css/bootstrap.min.css&quot;/&gt;\n",
       "    &lt;link rel=&quot;stylesheet&quot; href=&quot;https://cdn.jsdelivr.net/npm/@fortawesome/fontawesome-free@6.2.0/css/all.min.css&quot;/&gt;\n",
       "    &lt;link rel=&quot;stylesheet&quot; href=&quot;https://cdnjs.cloudflare.com/ajax/libs/Leaflet.awesome-markers/2.0.2/leaflet.awesome-markers.css&quot;/&gt;\n",
       "    &lt;link rel=&quot;stylesheet&quot; href=&quot;https://cdn.jsdelivr.net/gh/python-visualization/folium/folium/templates/leaflet.awesome.rotate.min.css&quot;/&gt;\n",
       "    \n",
       "            &lt;meta name=&quot;viewport&quot; content=&quot;width=device-width,\n",
       "                initial-scale=1.0, maximum-scale=1.0, user-scalable=no&quot; /&gt;\n",
       "            &lt;style&gt;\n",
       "                #map_c095a59d4c4828e4474f57cacb64744c {\n",
       "                    position: relative;\n",
       "                    width: 50.0%;\n",
       "                    height: 50.0%;\n",
       "                    left: 0.0%;\n",
       "                    top: 0.0%;\n",
       "                }\n",
       "                .leaflet-container { font-size: 1rem; }\n",
       "            &lt;/style&gt;\n",
       "        \n",
       "&lt;/head&gt;\n",
       "&lt;body&gt;\n",
       "    \n",
       "    \n",
       "            &lt;div class=&quot;folium-map&quot; id=&quot;map_c095a59d4c4828e4474f57cacb64744c&quot; &gt;&lt;/div&gt;\n",
       "        \n",
       "&lt;/body&gt;\n",
       "&lt;script&gt;\n",
       "    \n",
       "    \n",
       "            var map_c095a59d4c4828e4474f57cacb64744c = L.map(\n",
       "                &quot;map_c095a59d4c4828e4474f57cacb64744c&quot;,\n",
       "                {\n",
       "                    center: [40.741059199999995, -73.98964162240998],\n",
       "                    crs: L.CRS.EPSG3857,\n",
       "                    zoom: 15,\n",
       "                    zoomControl: true,\n",
       "                    preferCanvas: false,\n",
       "                }\n",
       "            );\n",
       "\n",
       "            \n",
       "\n",
       "        \n",
       "    \n",
       "            var tile_layer_792f324bdd52b77c2e26d32f9ea8b922 = L.tileLayer(\n",
       "                &quot;https://tile.openstreetmap.org/{z}/{x}/{y}.png&quot;,\n",
       "                {&quot;attribution&quot;: &quot;\\u0026copy; \\u003ca href=\\&quot;https://www.openstreetmap.org/copyright\\&quot;\\u003eOpenStreetMap\\u003c/a\\u003e contributors&quot;, &quot;detectRetina&quot;: false, &quot;maxNativeZoom&quot;: 19, &quot;maxZoom&quot;: 19, &quot;minZoom&quot;: 0, &quot;noWrap&quot;: false, &quot;opacity&quot;: 1, &quot;subdomains&quot;: &quot;abc&quot;, &quot;tms&quot;: false}\n",
       "            );\n",
       "        \n",
       "    \n",
       "            tile_layer_792f324bdd52b77c2e26d32f9ea8b922.addTo(map_c095a59d4c4828e4474f57cacb64744c);\n",
       "        \n",
       "    \n",
       "            var marker_85c017e3778a59b3774b66703b058275 = L.marker(\n",
       "                [40.741059199999995, -73.98964162240998],\n",
       "                {}\n",
       "            ).addTo(map_c095a59d4c4828e4474f57cacb64744c);\n",
       "        \n",
       "    \n",
       "        var popup_a13af6d36e749a1e33ad6e2e0541d0cc = L.popup({&quot;maxWidth&quot;: &quot;100%&quot;});\n",
       "\n",
       "        \n",
       "            \n",
       "                var html_e780e3c6ce017715b1769a8db2d97b65 = $(`&lt;div id=&quot;html_e780e3c6ce017715b1769a8db2d97b65&quot; style=&quot;width: 100.0%; height: 100.0%;&quot;&gt;175 5th Avenue NYC&lt;/div&gt;`)[0];\n",
       "                popup_a13af6d36e749a1e33ad6e2e0541d0cc.setContent(html_e780e3c6ce017715b1769a8db2d97b65);\n",
       "            \n",
       "        \n",
       "\n",
       "        marker_85c017e3778a59b3774b66703b058275.bindPopup(popup_a13af6d36e749a1e33ad6e2e0541d0cc)\n",
       "        ;\n",
       "\n",
       "        \n",
       "    \n",
       "    \n",
       "            tile_layer_792f324bdd52b77c2e26d32f9ea8b922.addTo(map_c095a59d4c4828e4474f57cacb64744c);\n",
       "        \n",
       "&lt;/script&gt;\n",
       "&lt;/html&gt;\" style=\"position:absolute;width:100%;height:100%;left:0;top:0;border:none !important;\" allowfullscreen webkitallowfullscreen mozallowfullscreen></iframe></div></div>"
      ],
      "text/plain": [
       "<folium.folium.Map at 0x16ffe407dd0>"
      ]
     },
     "metadata": {},
     "output_type": "display_data"
    }
   ],
   "source": [
    "main()"
   ]
  }
 ],
 "metadata": {
  "kernelspec": {
   "display_name": "venv",
   "language": "python",
   "name": "python3"
  },
  "language_info": {
   "codemirror_mode": {
    "name": "ipython",
    "version": 3
   },
   "file_extension": ".py",
   "mimetype": "text/x-python",
   "name": "python",
   "nbconvert_exporter": "python",
   "pygments_lexer": "ipython3",
   "version": "3.11.4"
  }
 },
 "nbformat": 4,
 "nbformat_minor": 2
}
