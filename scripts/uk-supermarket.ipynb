{
 "cells": [
  {
   "cell_type": "code",
   "execution_count": 1,
   "metadata": {},
   "outputs": [],
   "source": [
    "import osmnx as ox\n",
    "import geopandas as gpd"
   ]
  },
  {
   "cell_type": "code",
   "execution_count": 2,
   "metadata": {},
   "outputs": [],
   "source": [
    "place_name = \"Great Britain, UK\""
   ]
  },
  {
   "cell_type": "code",
   "execution_count": 3,
   "metadata": {},
   "outputs": [],
   "source": [
    "area = ox.geocode_to_gdf(place_name)"
   ]
  },
  {
   "cell_type": "code",
   "execution_count": 4,
   "metadata": {},
   "outputs": [
    {
     "data": {
      "text/html": [
       "<div>\n",
       "<style scoped>\n",
       "    .dataframe tbody tr th:only-of-type {\n",
       "        vertical-align: middle;\n",
       "    }\n",
       "\n",
       "    .dataframe tbody tr th {\n",
       "        vertical-align: top;\n",
       "    }\n",
       "\n",
       "    .dataframe thead th {\n",
       "        text-align: right;\n",
       "    }\n",
       "</style>\n",
       "<table border=\"1\" class=\"dataframe\">\n",
       "  <thead>\n",
       "    <tr style=\"text-align: right;\">\n",
       "      <th></th>\n",
       "      <th>geometry</th>\n",
       "      <th>bbox_north</th>\n",
       "      <th>bbox_south</th>\n",
       "      <th>bbox_east</th>\n",
       "      <th>bbox_west</th>\n",
       "      <th>place_id</th>\n",
       "      <th>osm_type</th>\n",
       "      <th>osm_id</th>\n",
       "      <th>lat</th>\n",
       "      <th>lon</th>\n",
       "      <th>class</th>\n",
       "      <th>type</th>\n",
       "      <th>place_rank</th>\n",
       "      <th>importance</th>\n",
       "      <th>addresstype</th>\n",
       "      <th>name</th>\n",
       "      <th>display_name</th>\n",
       "    </tr>\n",
       "  </thead>\n",
       "  <tbody>\n",
       "    <tr>\n",
       "      <th>0</th>\n",
       "      <td>MULTIPOLYGON (((-6.22788 56.71530, -6.22698 56...</td>\n",
       "      <td>58.672078</td>\n",
       "      <td>49.958699</td>\n",
       "      <td>1.76322</td>\n",
       "      <td>-6.227885</td>\n",
       "      <td>374194083</td>\n",
       "      <td>relation</td>\n",
       "      <td>6038068</td>\n",
       "      <td>54.315159</td>\n",
       "      <td>-1.918153</td>\n",
       "      <td>place</td>\n",
       "      <td>island</td>\n",
       "      <td>17</td>\n",
       "      <td>0.69679</td>\n",
       "      <td>island</td>\n",
       "      <td>Great Britain</td>\n",
       "      <td>Great Britain, United Kingdom</td>\n",
       "    </tr>\n",
       "  </tbody>\n",
       "</table>\n",
       "</div>"
      ],
      "text/plain": [
       "                                            geometry  bbox_north  bbox_south  \\\n",
       "0  MULTIPOLYGON (((-6.22788 56.71530, -6.22698 56...   58.672078   49.958699   \n",
       "\n",
       "   bbox_east  bbox_west   place_id  osm_type   osm_id        lat       lon  \\\n",
       "0    1.76322  -6.227885  374194083  relation  6038068  54.315159 -1.918153   \n",
       "\n",
       "   class    type  place_rank  importance addresstype           name  \\\n",
       "0  place  island          17     0.69679      island  Great Britain   \n",
       "\n",
       "                    display_name  \n",
       "0  Great Britain, United Kingdom  "
      ]
     },
     "execution_count": 4,
     "metadata": {},
     "output_type": "execute_result"
    }
   ],
   "source": [
    "area"
   ]
  },
  {
   "cell_type": "code",
   "execution_count": 6,
   "metadata": {},
   "outputs": [
    {
     "name": "stderr",
     "output_type": "stream",
     "text": [
      "C:\\Users\\Dee\\AppData\\Local\\Temp\\ipykernel_34140\\1561285249.py:3: UserWarning: The `geometries` module and `geometries_from_X` functions have been renamed the `features` module and `features_from_X` functions. Use these instead. The `geometries` module and function names are deprecated and will be removed in a future release.\n",
      "  buildings = ox.geometries_from_place(place_name, tags)\n"
     ]
    },
    {
     "ename": "MemoryError",
     "evalue": "",
     "output_type": "error",
     "traceback": [
      "\u001b[1;31m---------------------------------------------------------------------------\u001b[0m",
      "\u001b[1;31mMemoryError\u001b[0m                               Traceback (most recent call last)",
      "Cell \u001b[1;32mIn[6], line 3\u001b[0m\n\u001b[0;32m      1\u001b[0m tags \u001b[38;5;241m=\u001b[39m {\u001b[38;5;124m'\u001b[39m\u001b[38;5;124mbuilding\u001b[39m\u001b[38;5;124m'\u001b[39m: \u001b[38;5;28;01mTrue\u001b[39;00m}\n\u001b[1;32m----> 3\u001b[0m buildings \u001b[38;5;241m=\u001b[39m \u001b[43mox\u001b[49m\u001b[38;5;241;43m.\u001b[39;49m\u001b[43mgeometries_from_place\u001b[49m\u001b[43m(\u001b[49m\u001b[43mplace_name\u001b[49m\u001b[43m,\u001b[49m\u001b[43m \u001b[49m\u001b[43mtags\u001b[49m\u001b[43m)\u001b[49m\n\u001b[0;32m      4\u001b[0m buildings\u001b[38;5;241m.\u001b[39mhead()\n",
      "File \u001b[1;32mc:\\Users\\Dee\\root\\Projects\\dev\\devGeo\\venv\\Lib\\site-packages\\osmnx\\geometries.py:127\u001b[0m, in \u001b[0;36mgeometries_from_place\u001b[1;34m(query, tags, which_result, buffer_dist)\u001b[0m\n\u001b[0;32m    103\u001b[0m \u001b[38;5;250m\u001b[39m\u001b[38;5;124;03m\"\"\"\u001b[39;00m\n\u001b[0;32m    104\u001b[0m \u001b[38;5;124;03mDo not use: deprecated.\u001b[39;00m\n\u001b[0;32m    105\u001b[0m \n\u001b[1;32m   (...)\u001b[0m\n\u001b[0;32m    124\u001b[0m \u001b[38;5;124;03mgdf : geopandas.GeoDataFrame\u001b[39;00m\n\u001b[0;32m    125\u001b[0m \u001b[38;5;124;03m\"\"\"\u001b[39;00m\n\u001b[0;32m    126\u001b[0m warn(DEP_MSG, stacklevel\u001b[38;5;241m=\u001b[39m\u001b[38;5;241m2\u001b[39m)\n\u001b[1;32m--> 127\u001b[0m \u001b[38;5;28;01mreturn\u001b[39;00m \u001b[43mfeatures\u001b[49m\u001b[38;5;241;43m.\u001b[39;49m\u001b[43mfeatures_from_place\u001b[49m\u001b[43m(\u001b[49m\u001b[43mquery\u001b[49m\u001b[43m,\u001b[49m\u001b[43m \u001b[49m\u001b[43mtags\u001b[49m\u001b[43m,\u001b[49m\u001b[43m \u001b[49m\u001b[43mwhich_result\u001b[49m\u001b[43m,\u001b[49m\u001b[43m \u001b[49m\u001b[43mbuffer_dist\u001b[49m\u001b[43m)\u001b[49m\n",
      "File \u001b[1;32mc:\\Users\\Dee\\root\\Projects\\dev\\devGeo\\venv\\Lib\\site-packages\\osmnx\\features.py:283\u001b[0m, in \u001b[0;36mfeatures_from_place\u001b[1;34m(query, tags, which_result, buffer_dist)\u001b[0m\n\u001b[0;32m    280\u001b[0m utils\u001b[38;5;241m.\u001b[39mlog(\u001b[38;5;124m\"\u001b[39m\u001b[38;5;124mConstructed place geometry polygon(s) to query API\u001b[39m\u001b[38;5;124m\"\u001b[39m)\n\u001b[0;32m    282\u001b[0m \u001b[38;5;66;03m# create GeoDataFrame using this polygon(s) geometry\u001b[39;00m\n\u001b[1;32m--> 283\u001b[0m \u001b[38;5;28;01mreturn\u001b[39;00m \u001b[43mfeatures_from_polygon\u001b[49m\u001b[43m(\u001b[49m\u001b[43mpolygon\u001b[49m\u001b[43m,\u001b[49m\u001b[43m \u001b[49m\u001b[43mtags\u001b[49m\u001b[43m)\u001b[49m\n",
      "File \u001b[1;32mc:\\Users\\Dee\\root\\Projects\\dev\\devGeo\\venv\\Lib\\site-packages\\osmnx\\features.py:334\u001b[0m, in \u001b[0;36mfeatures_from_polygon\u001b[1;34m(polygon, tags)\u001b[0m\n\u001b[0;32m    331\u001b[0m response_jsons \u001b[38;5;241m=\u001b[39m _overpass\u001b[38;5;241m.\u001b[39m_download_overpass_features(polygon, tags)\n\u001b[0;32m    333\u001b[0m \u001b[38;5;66;03m# create GeoDataFrame from the downloaded data\u001b[39;00m\n\u001b[1;32m--> 334\u001b[0m \u001b[38;5;28;01mreturn\u001b[39;00m \u001b[43m_create_gdf\u001b[49m\u001b[43m(\u001b[49m\u001b[43mresponse_jsons\u001b[49m\u001b[43m,\u001b[49m\u001b[43m \u001b[49m\u001b[43mpolygon\u001b[49m\u001b[43m,\u001b[49m\u001b[43m \u001b[49m\u001b[43mtags\u001b[49m\u001b[43m)\u001b[49m\n",
      "File \u001b[1;32mc:\\Users\\Dee\\root\\Projects\\dev\\devGeo\\venv\\Lib\\site-packages\\osmnx\\features.py:442\u001b[0m, in \u001b[0;36m_create_gdf\u001b[1;34m(response_jsons, polygon, tags)\u001b[0m\n\u001b[0;32m    438\u001b[0m     untagged_element_ids\u001b[38;5;241m.\u001b[39madd(unique_id)\n\u001b[0;32m    440\u001b[0m \u001b[38;5;28;01mif\u001b[39;00m element[\u001b[38;5;124m\"\u001b[39m\u001b[38;5;124mtype\u001b[39m\u001b[38;5;124m\"\u001b[39m] \u001b[38;5;241m==\u001b[39m \u001b[38;5;124m\"\u001b[39m\u001b[38;5;124mnode\u001b[39m\u001b[38;5;124m\"\u001b[39m:\n\u001b[0;32m    441\u001b[0m     \u001b[38;5;66;03m# Parse all nodes to coords\u001b[39;00m\n\u001b[1;32m--> 442\u001b[0m     \u001b[43mcoords\u001b[49m\u001b[43m[\u001b[49m\u001b[43melement\u001b[49m\u001b[43m[\u001b[49m\u001b[38;5;124;43m\"\u001b[39;49m\u001b[38;5;124;43mid\u001b[39;49m\u001b[38;5;124;43m\"\u001b[39;49m\u001b[43m]\u001b[49m\u001b[43m]\u001b[49m \u001b[38;5;241m=\u001b[39m _parse_node_to_coords(element\u001b[38;5;241m=\u001b[39melement)\n\u001b[0;32m    444\u001b[0m     \u001b[38;5;66;03m# If the node has tags and the tags are not empty parse it\u001b[39;00m\n\u001b[0;32m    445\u001b[0m     \u001b[38;5;66;03m# to a Point. Empty check is necessary for JSONs created\u001b[39;00m\n\u001b[0;32m    446\u001b[0m     \u001b[38;5;66;03m# from XML where nodes without tags are assigned tags={}\u001b[39;00m\n\u001b[0;32m    447\u001b[0m     \u001b[38;5;28;01mif\u001b[39;00m \u001b[38;5;124m\"\u001b[39m\u001b[38;5;124mtags\u001b[39m\u001b[38;5;124m\"\u001b[39m \u001b[38;5;129;01min\u001b[39;00m element \u001b[38;5;129;01mand\u001b[39;00m \u001b[38;5;28mlen\u001b[39m(element[\u001b[38;5;124m\"\u001b[39m\u001b[38;5;124mtags\u001b[39m\u001b[38;5;124m\"\u001b[39m]) \u001b[38;5;241m>\u001b[39m \u001b[38;5;241m0\u001b[39m:\n",
      "\u001b[1;31mMemoryError\u001b[0m: "
     ]
    }
   ],
   "source": [
    "tags = {'building': True}\n",
    "\n",
    "buildings = ox.geometries_from_place(place_name, tags)\n",
    "buildings.head()"
   ]
  }
 ],
 "metadata": {
  "kernelspec": {
   "display_name": "venv",
   "language": "python",
   "name": "python3"
  },
  "language_info": {
   "codemirror_mode": {
    "name": "ipython",
    "version": 3
   },
   "file_extension": ".py",
   "mimetype": "text/x-python",
   "name": "python",
   "nbconvert_exporter": "python",
   "pygments_lexer": "ipython3",
   "version": "3.11.4"
  }
 },
 "nbformat": 4,
 "nbformat_minor": 2
}
